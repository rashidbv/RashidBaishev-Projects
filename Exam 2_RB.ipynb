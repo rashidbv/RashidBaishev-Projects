{
 "cells": [
  {
   "cell_type": "markdown",
   "metadata": {},
   "source": [
    "## Exam 2\n",
    "## Rashid Baishev, 903875892\n",
    "\n",
    "A bank wants to use performance of an in-house credit product to create a risk model. \n",
    "A sample of applicants for the original credit product was selected. \n",
    "Credit bureau data describing these individuals (at the time of application) was recorded and stored in the CREDIT data set. \n",
    "The ultimate disposition of the loan was determined (paid off or bad debt). For loans rejected at the time of application, a disposition was inferred from credit bureau records on loans obtained in a similar time frame."
   ]
  },
  {
   "cell_type": "markdown",
   "metadata": {},
   "source": [
    "### Import data"
   ]
  },
  {
   "cell_type": "code",
   "execution_count": 1,
   "metadata": {},
   "outputs": [
    {
     "name": "stdout",
     "output_type": "stream",
     "text": [
      "<class 'pandas.core.frame.DataFrame'>\n",
      "Int64Index: 2728 entries, 0 to 2999\n",
      "Data columns (total 30 columns):\n",
      "TARGET             2728 non-null int64\n",
      "ID                 2728 non-null int64\n",
      "DerogCnt           2728 non-null int64\n",
      "CollectCnt         2728 non-null int64\n",
      "BanruptcyInd       2728 non-null int64\n",
      "InqCnt06           2728 non-null int64\n",
      "InqTimeLast        2728 non-null float64\n",
      "InqFinanceCnt24    2728 non-null int64\n",
      "TLTimeFirst        2728 non-null int64\n",
      "TLTimeLast         2728 non-null int64\n",
      "TLCnt03            2728 non-null int64\n",
      "TLCnt12            2728 non-null int64\n",
      "TLCnt24            2728 non-null int64\n",
      "TLCnt              2728 non-null float64\n",
      "TLSum              2728 non-null object\n",
      "TLMaxSum           2728 non-null object\n",
      "TLSatCnt           2728 non-null float64\n",
      "TLDel60Cnt         2728 non-null int64\n",
      "TLBadCnt24         2728 non-null int64\n",
      "TL75UtilCnt        2728 non-null float64\n",
      "TL50UtilCnt        2728 non-null float64\n",
      "TLBalHCPct         2728 non-null object\n",
      "TLSatPct           2728 non-null object\n",
      "TLDel3060Cnt24     2728 non-null int64\n",
      "TLDel90Cnt24       2728 non-null int64\n",
      "TLDel60CntAll      2728 non-null int64\n",
      "TLOpenPct          2728 non-null object\n",
      "TLBadDerogCnt      2728 non-null int64\n",
      "TLDel60Cnt24       2728 non-null int64\n",
      "TLOpen24Pct        2728 non-null object\n",
      "dtypes: float64(5), int64(19), object(6)\n",
      "memory usage: 660.7+ KB\n"
     ]
    },
    {
     "data": {
      "text/html": [
       "<div>\n",
       "<style>\n",
       "    .dataframe thead tr:only-child th {\n",
       "        text-align: right;\n",
       "    }\n",
       "\n",
       "    .dataframe thead th {\n",
       "        text-align: left;\n",
       "    }\n",
       "\n",
       "    .dataframe tbody tr th {\n",
       "        vertical-align: top;\n",
       "    }\n",
       "</style>\n",
       "<table border=\"1\" class=\"dataframe\">\n",
       "  <thead>\n",
       "    <tr style=\"text-align: right;\">\n",
       "      <th></th>\n",
       "      <th>TARGET</th>\n",
       "      <th>ID</th>\n",
       "      <th>DerogCnt</th>\n",
       "      <th>CollectCnt</th>\n",
       "      <th>BanruptcyInd</th>\n",
       "      <th>InqCnt06</th>\n",
       "      <th>InqTimeLast</th>\n",
       "      <th>InqFinanceCnt24</th>\n",
       "      <th>TLTimeFirst</th>\n",
       "      <th>TLTimeLast</th>\n",
       "      <th>...</th>\n",
       "      <th>TL50UtilCnt</th>\n",
       "      <th>TLBalHCPct</th>\n",
       "      <th>TLSatPct</th>\n",
       "      <th>TLDel3060Cnt24</th>\n",
       "      <th>TLDel90Cnt24</th>\n",
       "      <th>TLDel60CntAll</th>\n",
       "      <th>TLOpenPct</th>\n",
       "      <th>TLBadDerogCnt</th>\n",
       "      <th>TLDel60Cnt24</th>\n",
       "      <th>TLOpen24Pct</th>\n",
       "    </tr>\n",
       "  </thead>\n",
       "  <tbody>\n",
       "    <tr>\n",
       "      <th>0</th>\n",
       "      <td>0</td>\n",
       "      <td>66</td>\n",
       "      <td>1</td>\n",
       "      <td>1</td>\n",
       "      <td>0</td>\n",
       "      <td>7</td>\n",
       "      <td>1.0</td>\n",
       "      <td>4</td>\n",
       "      <td>125</td>\n",
       "      <td>3</td>\n",
       "      <td>...</td>\n",
       "      <td>4.0</td>\n",
       "      <td>0.85</td>\n",
       "      <td>0.67</td>\n",
       "      <td>0</td>\n",
       "      <td>0</td>\n",
       "      <td>1</td>\n",
       "      <td>0.58</td>\n",
       "      <td>0</td>\n",
       "      <td>0</td>\n",
       "      <td>0.71</td>\n",
       "    </tr>\n",
       "    <tr>\n",
       "      <th>1</th>\n",
       "      <td>0</td>\n",
       "      <td>116</td>\n",
       "      <td>1</td>\n",
       "      <td>1</td>\n",
       "      <td>0</td>\n",
       "      <td>2</td>\n",
       "      <td>1.0</td>\n",
       "      <td>0</td>\n",
       "      <td>252</td>\n",
       "      <td>18</td>\n",
       "      <td>...</td>\n",
       "      <td>2.0</td>\n",
       "      <td>0.48</td>\n",
       "      <td>0.30</td>\n",
       "      <td>0</td>\n",
       "      <td>1</td>\n",
       "      <td>4</td>\n",
       "      <td>0.40</td>\n",
       "      <td>2</td>\n",
       "      <td>1</td>\n",
       "      <td>0.50</td>\n",
       "    </tr>\n",
       "    <tr>\n",
       "      <th>2</th>\n",
       "      <td>0</td>\n",
       "      <td>124</td>\n",
       "      <td>0</td>\n",
       "      <td>0</td>\n",
       "      <td>0</td>\n",
       "      <td>1</td>\n",
       "      <td>1.0</td>\n",
       "      <td>4</td>\n",
       "      <td>254</td>\n",
       "      <td>12</td>\n",
       "      <td>...</td>\n",
       "      <td>3.0</td>\n",
       "      <td>0.84</td>\n",
       "      <td>0.67</td>\n",
       "      <td>0</td>\n",
       "      <td>1</td>\n",
       "      <td>1</td>\n",
       "      <td>0.50</td>\n",
       "      <td>1</td>\n",
       "      <td>1</td>\n",
       "      <td>0.33</td>\n",
       "    </tr>\n",
       "    <tr>\n",
       "      <th>3</th>\n",
       "      <td>0</td>\n",
       "      <td>128</td>\n",
       "      <td>0</td>\n",
       "      <td>0</td>\n",
       "      <td>0</td>\n",
       "      <td>6</td>\n",
       "      <td>3.0</td>\n",
       "      <td>6</td>\n",
       "      <td>154</td>\n",
       "      <td>3</td>\n",
       "      <td>...</td>\n",
       "      <td>5.0</td>\n",
       "      <td>0.73</td>\n",
       "      <td>0.76</td>\n",
       "      <td>0</td>\n",
       "      <td>1</td>\n",
       "      <td>1</td>\n",
       "      <td>0.53</td>\n",
       "      <td>1</td>\n",
       "      <td>1</td>\n",
       "      <td>1.22</td>\n",
       "    </tr>\n",
       "    <tr>\n",
       "      <th>4</th>\n",
       "      <td>0</td>\n",
       "      <td>143</td>\n",
       "      <td>0</td>\n",
       "      <td>0</td>\n",
       "      <td>0</td>\n",
       "      <td>1</td>\n",
       "      <td>0.0</td>\n",
       "      <td>1</td>\n",
       "      <td>311</td>\n",
       "      <td>17</td>\n",
       "      <td>...</td>\n",
       "      <td>3.0</td>\n",
       "      <td>0.88</td>\n",
       "      <td>0.63</td>\n",
       "      <td>0</td>\n",
       "      <td>0</td>\n",
       "      <td>1</td>\n",
       "      <td>0.63</td>\n",
       "      <td>0</td>\n",
       "      <td>0</td>\n",
       "      <td>0.20</td>\n",
       "    </tr>\n",
       "  </tbody>\n",
       "</table>\n",
       "<p>5 rows × 30 columns</p>\n",
       "</div>"
      ],
      "text/plain": [
       "   TARGET   ID  DerogCnt  CollectCnt  BanruptcyInd  InqCnt06  InqTimeLast  \\\n",
       "0       0   66         1           1             0         7          1.0   \n",
       "1       0  116         1           1             0         2          1.0   \n",
       "2       0  124         0           0             0         1          1.0   \n",
       "3       0  128         0           0             0         6          3.0   \n",
       "4       0  143         0           0             0         1          0.0   \n",
       "\n",
       "   InqFinanceCnt24  TLTimeFirst  TLTimeLast     ...       TL50UtilCnt  \\\n",
       "0                4          125           3     ...               4.0   \n",
       "1                0          252          18     ...               2.0   \n",
       "2                4          254          12     ...               3.0   \n",
       "3                6          154           3     ...               5.0   \n",
       "4                1          311          17     ...               3.0   \n",
       "\n",
       "   TLBalHCPct  TLSatPct  TLDel3060Cnt24  TLDel90Cnt24  TLDel60CntAll  \\\n",
       "0        0.85      0.67               0             0              1   \n",
       "1        0.48      0.30               0             1              4   \n",
       "2        0.84      0.67               0             1              1   \n",
       "3        0.73      0.76               0             1              1   \n",
       "4        0.88      0.63               0             0              1   \n",
       "\n",
       "   TLOpenPct  TLBadDerogCnt  TLDel60Cnt24  TLOpen24Pct  \n",
       "0       0.58              0             0         0.71  \n",
       "1       0.40              2             1         0.50  \n",
       "2       0.50              1             1         0.33  \n",
       "3       0.53              1             1         1.22  \n",
       "4       0.63              0             0         0.20  \n",
       "\n",
       "[5 rows x 30 columns]"
      ]
     },
     "execution_count": 1,
     "metadata": {},
     "output_type": "execute_result"
    }
   ],
   "source": [
    "import pandas as pd \n",
    "import numpy as np\n",
    "import matplotlib.pyplot as plt\n",
    "%matplotlib inline\n",
    "\n",
    "# adjust the file path to the right directory\n",
    "credit = pd.read_csv('/Users/rzb0056/Documents/Exam 2_2018/Credit_Exam1.csv').dropna() \n",
    "credit.info() \n",
    "\n",
    "# get rid of the $ sign in the following columns \n",
    "credit['TLSum'] = credit[['TLSum']].replace('[\\$,]','',regex=True).astype(float) \n",
    "credit['TLMaxSum'] = credit[['TLMaxSum']].replace('[\\$,]','',regex=True).astype(float) \n",
    "credit['TLBalHCPct'] = credit['TLBalHCPct'].replace('%','',regex=True).astype('float')/100 \n",
    "credit['TLSatPct'] = credit['TLSatPct'].replace('%','',regex=True).astype('float')/100 \n",
    "credit['TLOpenPct'] = credit['TLOpenPct'].replace('%','',regex=True).astype('float')/100 \n",
    "credit['TLOpen24Pct'] = credit['TLOpen24Pct'].replace('%','',regex=True).astype('float')/100 \n",
    "\n",
    "credit.head()"
   ]
  },
  {
   "cell_type": "code",
   "execution_count": 2,
   "metadata": {},
   "outputs": [
    {
     "data": {
      "text/plain": [
       "0    2257\n",
       "1     471\n",
       "Name: TARGET, dtype: int64"
      ]
     },
     "execution_count": 2,
     "metadata": {},
     "output_type": "execute_result"
    }
   ],
   "source": [
    "credit['TARGET'].value_counts()\n",
    "\n",
    "# from the distribution of the dependent variable, we know that when Target = 1, the loan is a defaulted loan. "
   ]
  },
  {
   "cell_type": "markdown",
   "metadata": {},
   "source": [
    "### Cross Validation\n",
    "Randomly split the dataset, so that the training dataset includes 60% of the original dataset. \n",
    "Write down the answers for the following questions in your Jupyter notebook.\n"
   ]
  },
  {
   "cell_type": "code",
   "execution_count": 3,
   "metadata": {},
   "outputs": [
    {
     "name": "stderr",
     "output_type": "stream",
     "text": [
      "C:\\ProgramData\\Anaconda3\\lib\\site-packages\\sklearn\\cross_validation.py:41: DeprecationWarning: This module was deprecated in version 0.18 in favor of the model_selection module into which all the refactored classes and functions are moved. Also note that the interface of the new CV iterators are different from that of this module. This module will be removed in 0.20.\n",
      "  \"This module will be removed in 0.20.\", DeprecationWarning)\n"
     ]
    }
   ],
   "source": [
    "from sklearn.cross_validation import train_test_split\n",
    "\n",
    "# define the X and y variables\n",
    "X = credit.drop(['TARGET', 'ID'], axis=1)\n",
    "features = X.columns\n",
    "\n",
    "y = credit[\"TARGET\"]\n",
    "\n",
    "\n",
    "# Instruction: change the value of random_state\n",
    "X_train, X_test, y_train, y_test = train_test_split(X, y, train_size=0.6, random_state=0)\n",
    "\n",
    "# use the train set to create the models, and use test set to evaluate models. "
   ]
  },
  {
   "cell_type": "markdown",
   "metadata": {},
   "source": [
    "#### 1. Decision Tree\n",
    "\n",
    "#### Q1 \n",
    "Create a decision tree model with all variables as the predictors, with the exception of the TARGET and ID variables. Use TARGET as the dependent variable. Set max_depth to 6 in this tree model. (5 points)\n"
   ]
  },
  {
   "cell_type": "code",
   "execution_count": 17,
   "metadata": {},
   "outputs": [
    {
     "data": {
      "text/plain": [
       "DecisionTreeClassifier(class_weight=None, criterion='gini', max_depth=6,\n",
       "            max_features=None, max_leaf_nodes=None,\n",
       "            min_impurity_decrease=0.0, min_impurity_split=None,\n",
       "            min_samples_leaf=1, min_samples_split=2,\n",
       "            min_weight_fraction_leaf=0.0, presort=False, random_state=None,\n",
       "            splitter='best')"
      ]
     },
     "execution_count": 17,
     "metadata": {},
     "output_type": "execute_result"
    }
   ],
   "source": [
    "# Instruction: define the decision tree model. Fit the model using X_train and y_train\n",
    "\n",
    "from sklearn.tree import DecisionTreeClassifier\n",
    "clf = DecisionTreeClassifier(max_depth=6)\n",
    "\n",
    "clf.fit(X_train,y_train)\n",
    "\n",
    "\n",
    "\n",
    "\n",
    "\n"
   ]
  },
  {
   "cell_type": "markdown",
   "metadata": {},
   "source": [
    "#### Q2&Q3\n",
    "Print out the image of the tree models. Briefly describe the tree according to the image. How many leaves are there in the decision tree? (5-point bonus)"
   ]
  },
  {
   "cell_type": "code",
   "execution_count": 7,
   "metadata": {},
   "outputs": [
    {
     "ename": "ModuleNotFoundError",
     "evalue": "No module named 'pydotplus'",
     "output_type": "error",
     "traceback": [
      "\u001b[1;31m---------------------------------------------------------------------------\u001b[0m",
      "\u001b[1;31mModuleNotFoundError\u001b[0m                       Traceback (most recent call last)",
      "\u001b[1;32m<ipython-input-7-b3bb5c01ebdc>\u001b[0m in \u001b[0;36m<module>\u001b[1;34m()\u001b[0m\n\u001b[0;32m      1\u001b[0m \u001b[1;32mfrom\u001b[0m \u001b[0msklearn\u001b[0m\u001b[1;33m.\u001b[0m\u001b[0mexternals\u001b[0m\u001b[1;33m.\u001b[0m\u001b[0msix\u001b[0m \u001b[1;32mimport\u001b[0m \u001b[0mStringIO\u001b[0m\u001b[1;33m\u001b[0m\u001b[0m\n\u001b[0;32m      2\u001b[0m \u001b[1;32mfrom\u001b[0m \u001b[0msklearn\u001b[0m\u001b[1;33m.\u001b[0m\u001b[0mtree\u001b[0m \u001b[1;32mimport\u001b[0m \u001b[0mexport_graphviz\u001b[0m\u001b[1;33m\u001b[0m\u001b[0m\n\u001b[1;32m----> 3\u001b[1;33m \u001b[1;32mimport\u001b[0m \u001b[0mpydotplus\u001b[0m \u001b[1;32mas\u001b[0m \u001b[0mpdp\u001b[0m\u001b[1;33m\u001b[0m\u001b[0m\n\u001b[0m\u001b[0;32m      4\u001b[0m \u001b[1;32mfrom\u001b[0m \u001b[0mIPython\u001b[0m\u001b[1;33m.\u001b[0m\u001b[0mdisplay\u001b[0m \u001b[1;32mimport\u001b[0m \u001b[0mImage\u001b[0m\u001b[1;33m\u001b[0m\u001b[0m\n\u001b[0;32m      5\u001b[0m \u001b[1;33m\u001b[0m\u001b[0m\n",
      "\u001b[1;31mModuleNotFoundError\u001b[0m: No module named 'pydotplus'"
     ]
    }
   ],
   "source": [
    "from sklearn.externals.six import StringIO  \n",
    "from sklearn.tree import export_graphviz\n",
    "import pydotplus as pdp\n",
    "from IPython.display import Image\n",
    "\n",
    "# This function creates images of tree models using pydotplus\n",
    "def print_tree(estimator, features, class_names=None, filled=True):\n",
    "    tree = estimator\n",
    "    names = features\n",
    "    color = filled\n",
    "    classn = class_names\n",
    "    \n",
    "    dot_data = StringIO()\n",
    "    export_graphviz(estimator, out_file=dot_data, feature_names=features, class_names=classn, filled=filled)\n",
    "    graph = pdp.graph_from_dot_data(dot_data.getvalue())\n",
    "    return(graph)"
   ]
  },
  {
   "cell_type": "code",
   "execution_count": 8,
   "metadata": {
    "scrolled": true
   },
   "outputs": [
    {
     "ename": "NameError",
     "evalue": "name 'print_tree' is not defined",
     "output_type": "error",
     "traceback": [
      "\u001b[1;31m---------------------------------------------------------------------------\u001b[0m",
      "\u001b[1;31mNameError\u001b[0m                                 Traceback (most recent call last)",
      "\u001b[1;32m<ipython-input-8-8fd7a9ebdc17>\u001b[0m in \u001b[0;36m<module>\u001b[1;34m()\u001b[0m\n\u001b[0;32m      3\u001b[0m \u001b[1;31m# double click the image to enlarge it\u001b[0m\u001b[1;33m\u001b[0m\u001b[1;33m\u001b[0m\u001b[0m\n\u001b[0;32m      4\u001b[0m \u001b[1;33m\u001b[0m\u001b[0m\n\u001b[1;32m----> 5\u001b[1;33m \u001b[0mgraph\u001b[0m \u001b[1;33m=\u001b[0m \u001b[0mprint_tree\u001b[0m\u001b[1;33m(\u001b[0m\u001b[0mclf\u001b[0m\u001b[1;33m,\u001b[0m \u001b[0mfeatures\u001b[0m\u001b[1;33m=\u001b[0m\u001b[0mX\u001b[0m\u001b[1;33m.\u001b[0m\u001b[0mcolumns\u001b[0m\u001b[1;33m)\u001b[0m\u001b[1;33m\u001b[0m\u001b[0m\n\u001b[0m\u001b[0;32m      6\u001b[0m \u001b[0mImage\u001b[0m\u001b[1;33m(\u001b[0m\u001b[0mgraph\u001b[0m\u001b[1;33m.\u001b[0m\u001b[0mcreate_png\u001b[0m\u001b[1;33m(\u001b[0m\u001b[1;33m)\u001b[0m\u001b[1;33m)\u001b[0m\u001b[1;33m\u001b[0m\u001b[0m\n\u001b[0;32m      7\u001b[0m \u001b[1;33m\u001b[0m\u001b[0m\n",
      "\u001b[1;31mNameError\u001b[0m: name 'print_tree' is not defined"
     ]
    }
   ],
   "source": [
    "\n",
    "# Instruction: use the print_tree function\n",
    "# double click the image to enlarge it\n",
    "\n",
    "graph = print_tree(clf, features=X.columns)\n",
    "Image(graph.create_png())\n",
    "\n"
   ]
  },
  {
   "cell_type": "markdown",
   "metadata": {},
   "source": [
    "#### Your answer for Q3:\n",
    "##### Instruction: you can either count the leaf nodes, or use python code to get the count of the leaves\n",
    "\n",
    "The number of leaves: 5\n",
    "\n",
    "\n"
   ]
  },
  {
   "cell_type": "markdown",
   "metadata": {},
   "source": [
    "#### Q4\n",
    "What are the five variables with the highest variable importance in the decision tree model? (3 points)"
   ]
  },
  {
   "cell_type": "code",
   "execution_count": 9,
   "metadata": {},
   "outputs": [
    {
     "name": "stdout",
     "output_type": "stream",
     "text": [
      "[('DerogCnt', 0.009227572312729285), ('CollectCnt', 0.0), ('BanruptcyInd', 0.023246188402752301), ('InqCnt06', 0.039408481393818376), ('InqTimeLast', 0.035942691569447405), ('InqFinanceCnt24', 0.045501599315224704), ('TLTimeFirst', 0.061783162304677786), ('TLTimeLast', 0.017542278688291078), ('TLCnt03', 0.0), ('TLCnt12', 0.0), ('TLCnt24', 0.019639978743501697), ('TLCnt', 0.0090898153176818923), ('TLSum', 0.050218349345351895), ('TLMaxSum', 0.047596373356411668), ('TLSatCnt', 0.042764248417452654), ('TLDel60Cnt', 0.016730929401070474), ('TLBadCnt24', 0.0), ('TL75UtilCnt', 0.0408766994815375), ('TL50UtilCnt', 0.0095055497335074894), ('TLBalHCPct', 0.086886580890882276), ('TLSatPct', 0.11355886432228551), ('TLDel3060Cnt24', 0.041011156026400396), ('TLDel90Cnt24', 0.0), ('TLDel60CntAll', 0.009542826399129083), ('TLOpenPct', 0.024660672431433585), ('TLBadDerogCnt', 0.043516626883391626), ('TLDel60Cnt24', 0.17049748582847296), ('TLOpen24Pct', 0.041251869434548546)]\n"
     ]
    },
    {
     "data": {
      "text/plain": [
       "<matplotlib.axes._subplots.AxesSubplot at 0x9cf266a1d0>"
      ]
     },
     "execution_count": 9,
     "metadata": {},
     "output_type": "execute_result"
    },
    {
     "data": {
      "image/png": "[encoded data removed]",
      "text/plain": [
       "<matplotlib.figure.Figure at 0x9cf265b160>"
      ]
     },
     "metadata": {},
     "output_type": "display_data"
    }
   ],
   "source": [
    "# View a list of the features and their importance scores\n",
    "print(list(zip(X_train, clf.feature_importances_)))\n",
    "\n",
    "# plot the important features\n",
    "feat_importances = pd.Series(clf.feature_importances_, index=X.columns)\n",
    "feat_importances.nlargest(5).plot(kind='barh')\n",
    "\n"
   ]
  },
  {
   "cell_type": "markdown",
   "metadata": {},
   "source": [
    "#### Your answer for Q4. Use the definition of the variables. \n",
    "\n",
    "The five most important variables are: \n",
    "TLDel60Cnt24;\n",
    "TLSatPct;\n",
    "TLBalHCPct;\n",
    "TLTimeFirst;\n",
    "TLSum;\n",
    "\n",
    "\n",
    "\n",
    "\n",
    "\n",
    "\n"
   ]
  },
  {
   "cell_type": "markdown",
   "metadata": {},
   "source": [
    "\n",
    "\n",
    "\n",
    "\n",
    "\n",
    "\n"
   ]
  },
  {
   "cell_type": "markdown",
   "metadata": {},
   "source": [
    "#### Q5\n",
    "Create a random forest model with the same set of input variables and dependent variable. Set max_features = 4. (5 points)"
   ]
  },
  {
   "cell_type": "code",
   "execution_count": 10,
   "metadata": {},
   "outputs": [
    {
     "data": {
      "text/plain": [
       "RandomForestClassifier(bootstrap=True, class_weight=None, criterion='gini',\n",
       "            max_depth=None, max_features=4, max_leaf_nodes=None,\n",
       "            min_impurity_decrease=0.0, min_impurity_split=None,\n",
       "            min_samples_leaf=1, min_samples_split=2,\n",
       "            min_weight_fraction_leaf=0.0, n_estimators=10, n_jobs=1,\n",
       "            oob_score=False, random_state=None, verbose=0,\n",
       "            warm_start=False)"
      ]
     },
     "execution_count": 10,
     "metadata": {},
     "output_type": "execute_result"
    }
   ],
   "source": [
    "from sklearn.ensemble import RandomForestClassifier\n",
    "rfc = RandomForestClassifier(max_features = 4)\n",
    "rfc.fit(X_train, y_train)\n",
    "\n",
    "\n",
    "\n"
   ]
  },
  {
   "cell_type": "markdown",
   "metadata": {},
   "source": [
    "#### Q6\n",
    "\n",
    "What are the five variables with the highest variable importance from the random forest model? (2 points)"
   ]
  },
  {
   "cell_type": "code",
   "execution_count": 11,
   "metadata": {},
   "outputs": [
    {
     "data": {
      "text/plain": [
       "<matplotlib.axes._subplots.AxesSubplot at 0x9ce70f6ef0>"
      ]
     },
     "execution_count": 11,
     "metadata": {},
     "output_type": "execute_result"
    },
    {
     "data": {
      "image/png": "[encoded data removed]",
      "text/plain": [
       "<matplotlib.figure.Figure at 0x9ce70f6668>"
      ]
     },
     "metadata": {},
     "output_type": "display_data"
    }
   ],
   "source": [
    "# plot the important features. Run the following code.\n",
    "feat_importances = pd.Series(rfc.feature_importances_, index=X.columns)\n",
    "feat_importances.nlargest(5).plot(kind='barh')\n"
   ]
  },
  {
   "cell_type": "markdown",
   "metadata": {},
   "source": [
    "#### Your answer for Q4. Use the definition of the variables.\n",
    "The five most important variables are:\n",
    "TLSatPct;\n",
    "TLBalHCPct;\n",
    "TLTimeFirst;\n",
    "TLSum;\n",
    "InqFinanceCnt24;\n",
    "    \n",
    "    \n"
   ]
  },
  {
   "cell_type": "markdown",
   "metadata": {},
   "source": [
    "\n",
    "\n",
    "\n",
    "\n",
    "\n",
    "\n"
   ]
  },
  {
   "cell_type": "markdown",
   "metadata": {},
   "source": [
    "#### Q7\n",
    "Create a neural network model with 3 hidden layers. Each hidden layer should have 5 hidden units. Only use the top five most important variables from the random forest model as the input variables. (5 points)\n"
   ]
  },
  {
   "cell_type": "code",
   "execution_count": 12,
   "metadata": {},
   "outputs": [
    {
     "name": "stderr",
     "output_type": "stream",
     "text": [
      "C:\\ProgramData\\Anaconda3\\lib\\site-packages\\sklearn\\neural_network\\multilayer_perceptron.py:564: ConvergenceWarning: Stochastic Optimizer: Maximum iterations (200) reached and the optimization hasn't converged yet.\n",
      "  % self.max_iter, ConvergenceWarning)\n"
     ]
    },
    {
     "data": {
      "text/plain": [
       "MLPClassifier(activation='relu', alpha=0.0001, batch_size='auto', beta_1=0.9,\n",
       "       beta_2=0.999, early_stopping=False, epsilon=1e-08,\n",
       "       hidden_layer_sizes=(5, 5, 5), learning_rate='constant',\n",
       "       learning_rate_init=0.001, max_iter=200, momentum=0.9,\n",
       "       nesterovs_momentum=True, power_t=0.5, random_state=None,\n",
       "       shuffle=True, solver='adam', tol=0.0001, validation_fraction=0.1,\n",
       "       verbose=False, warm_start=False)"
      ]
     },
     "execution_count": 12,
     "metadata": {},
     "output_type": "execute_result"
    }
   ],
   "source": [
    "from sklearn.neural_network import MLPClassifier\n",
    "mlp = MLPClassifier(hidden_layer_sizes=(5,5,5))\n",
    "mlp.fit(X_train, y_train)\n",
    "\n",
    "# Instruction: fill in the names of the five variables\n",
    "\n",
    "nn_columns = ['TLSatPct','TLBalHCPct','TLSum','TLSum','TLTimeFirst']\n",
    "mlp.fit(X_train[nn_columns],y_train)\n",
    "\n",
    "\n"
   ]
  },
  {
   "cell_type": "markdown",
   "metadata": {},
   "source": [
    "##### Q8\n",
    "Create a linear Support Vector Machine model with tuning parameter = 0.1. Only use the top two most important variables from the random forest model as the input variables. (5 points)\n"
   ]
  },
  {
   "cell_type": "code",
   "execution_count": 13,
   "metadata": {},
   "outputs": [
    {
     "data": {
      "text/plain": [
       "SVC(C=0.1, cache_size=200, class_weight=None, coef0=0.0,\n",
       "  decision_function_shape='ovr', degree=3, gamma='auto', kernel='linear',\n",
       "  max_iter=-1, probability=False, random_state=None, shrinking=True,\n",
       "  tol=0.001, verbose=False)"
      ]
     },
     "execution_count": 13,
     "metadata": {},
     "output_type": "execute_result"
    }
   ],
   "source": [
    "# Support Vector Classifier with linear kernel.\n",
    "\n",
    "from sklearn.svm import SVC\n",
    "\n",
    "\n",
    "svc = SVC(C= 0.1, kernel='linear')\n",
    "\n",
    "# Instruction: fill in the names of the two variables\n",
    "\n",
    "svc_columns = ['TLSatPct','TLBalHCPct']\n",
    "svc.fit(X_train[svc_columns], y_train)\n",
    "\n"
   ]
  },
  {
   "cell_type": "markdown",
   "metadata": {},
   "source": [
    "#### Q9\n",
    "Print out the support vectors for your model. (5-point bonus)"
   ]
  },
  {
   "cell_type": "code",
   "execution_count": 14,
   "metadata": {
    "collapsed": true
   },
   "outputs": [],
   "source": [
    "def plot_svc(svc, X, y, h=0.02, pad=0.25):\n",
    "    x_min, x_max = X.values[:, 0].min()-pad, X.values[:, 0].max()+pad\n",
    "    y_min, y_max = X.values[:, 1].min()-pad, X.values[:, 1].max()+pad\n",
    "    xx, yy = np.meshgrid(np.arange(x_min, x_max, h), np.arange(y_min, y_max, h))\n",
    "    Z = svc.predict(np.c_[xx.ravel(), yy.ravel()])\n",
    "    Z = Z.reshape(xx.shape)\n",
    "    plt.contourf(xx, yy, Z, cmap=plt.cm.Paired, alpha=0.2)\n",
    "\n",
    "    plt.scatter(X.values[:,0], X.values[:,1], s=70, c=y, cmap=plt.cm.Paired)\n",
    "    # Support vectors indicated in plot by vertical lines\n",
    "    sv = svc.support_vectors_\n",
    "    plt.scatter(sv[:,0], sv[:,1], c='k', marker='|', s=100, linewidths='1')\n",
    "    plt.xlim(x_min, x_max)\n",
    "    plt.ylim(y_min, y_max)\n",
    "    plt.xlabel('X1')\n",
    "    plt.ylabel('X2')\n",
    "    plt.show()\n",
    "    print('Number of support vectors: ', svc.support_.size)"
   ]
  },
  {
   "cell_type": "code",
   "execution_count": 15,
   "metadata": {},
   "outputs": [
    {
     "data": {
      "image/png": "[encoded data removed]",
      "text/plain": [
       "<matplotlib.figure.Figure at 0x9ce7052e48>"
      ]
     },
     "metadata": {},
     "output_type": "display_data"
    },
    {
     "name": "stdout",
     "output_type": "stream",
     "text": [
      "Number of support vectors:  549\n"
     ]
    }
   ],
   "source": [
    "# Instruction: run the code below. \n",
    "\n",
    "# plot the support vectors\n",
    "plot_svc(svc, X_train[svc_columns], y_train)\n",
    "\n"
   ]
  },
  {
   "cell_type": "markdown",
   "metadata": {},
   "source": [
    "#### Q10\n",
    "Use the test dataset, compare the accuracy level of the four models you have created in the previous steps, i.e., decision tree, random forest, neural network, SVM. (5 points)\n"
   ]
  },
  {
   "cell_type": "code",
   "execution_count": 16,
   "metadata": {},
   "outputs": [
    {
     "name": "stdout",
     "output_type": "stream",
     "text": [
      "Accuracy of Decision Tree classifier on test set: 0.80\n",
      "Accuracy of Random Forest classifier on test set: 0.82\n",
      "Accuracy of Neural Network classifier on test set: 0.82\n",
      "Accuracy of SVM classifier on test set: 0.82\n"
     ]
    }
   ],
   "source": [
    "print('Accuracy of Decision Tree classifier on test set: {:.2f}'\n",
    "     .format(clf.score(X_test, y_test)))\n",
    "\n",
    "print('Accuracy of Random Forest classifier on test set: {:.2f}'\n",
    "     .format(rfc.score(X_test, y_test)))\n",
    "\n",
    "print('Accuracy of Neural Network classifier on test set: {:.2f}'\n",
    "     .format(mlp.score(X_test[nn_columns], y_test)))\n",
    "\n",
    "print('Accuracy of SVM classifier on test set: {:.2f}'\n",
    "     .format(svc.score(X_test[svc_columns], y_test)))\n"
   ]
  },
  {
   "cell_type": "markdown",
   "metadata": {},
   "source": [
    "#### Your conclusion: Random Forest, Neural Network and SVM classifiers have the highest accuracy scores amongs all classifiers, therefore we should use either one based on Accuracy score."
   ]
  },
  {
   "cell_type": "markdown",
   "metadata": {},
   "source": []
  }
 ],
 "metadata": {
  "kernelspec": {
   "display_name": "Python 3",
   "language": "python",
   "name": "python3"
  },
  "language_info": {
   "codemirror_mode": {
    "name": "ipython",
    "version": 3
   },
   "file_extension": ".py",
   "mimetype": "text/x-python",
   "name": "python",
   "nbconvert_exporter": "python",
   "pygments_lexer": "ipython3",
   "version": "3.6.3"
  }
 },
 "nbformat": 4,
 "nbformat_minor": 2
}
